{
 "cells": [
  {
   "cell_type": "code",
   "execution_count": 38,
   "id": "0b5e94c5-dba2-4bbd-8917-8b89eebd6b39",
   "metadata": {},
   "outputs": [],
   "source": [
    "import openai"
   ]
  },
  {
   "cell_type": "code",
   "execution_count": 39,
   "id": "93d94617-698e-4fd1-b7b8-4940347234ea",
   "metadata": {},
   "outputs": [],
   "source": [
    "from openai import OpenAI"
   ]
  },
  {
   "cell_type": "code",
   "execution_count": 40,
   "id": "c9af3acc-2615-4f85-ac2b-83a50aa5b426",
   "metadata": {
    "scrolled": true
   },
   "outputs": [],
   "source": [
    "client = OpenAI()"
   ]
  },
  {
   "cell_type": "code",
   "execution_count": 41,
   "id": "69b47333-aed1-4474-8ebd-3f06d3847b6d",
   "metadata": {},
   "outputs": [],
   "source": [
    "import os"
   ]
  },
  {
   "cell_type": "code",
   "execution_count": 42,
   "id": "ceaaef93-1a9b-4986-8e47-77f797de258f",
   "metadata": {},
   "outputs": [
    {
     "name": "stdout",
     "output_type": "stream",
     "text": [
      "To provide an accurate answer, I would need more information about the specific course you are referring to, such as the enrollment deadlines and start dates. I recommend checking the course's official website or contacting the course provider directly for the most accurate and up-to-date information regarding enrollment.\n"
     ]
    }
   ],
   "source": [
    "try:\n",
    "    response = client.chat.completions.create(\n",
    "        model='gpt-4o',\n",
    "        messages = [{\n",
    "            'role': 'user',\n",
    "            'content': \"Is it too late to join the course?\"\n",
    "        }]\n",
    "    )  \n",
    "    print(response.choices[0].message.content)\n",
    "except Exception as e:\n",
    "    raise e"
   ]
  },
  {
   "cell_type": "code",
   "execution_count": 54,
   "id": "72061e4c-2c57-4fcd-ba9a-9a5da3cc7338",
   "metadata": {},
   "outputs": [
    {
     "data": {
      "text/plain": [
       "Choice(finish_reason='stop', index=0, logprobs=None, message=ChatCompletionMessage(content=\"To provide an accurate answer, I would need more information about the specific course you are referring to, such as the enrollment deadlines and start dates. I recommend checking the course's official website or contacting the course provider directly for the most accurate and up-to-date information regarding enrollment.\", refusal=None, role='assistant', annotations=[], audio=None, function_call=None, tool_calls=None))"
      ]
     },
     "execution_count": 54,
     "metadata": {},
     "output_type": "execute_result"
    }
   ],
   "source": [
    "response.choices[0]"
   ]
  },
  {
   "cell_type": "code",
   "execution_count": null,
   "id": "a54883cb-2d54-47a1-864b-965306d9a9fd",
   "metadata": {},
   "outputs": [],
   "source": []
  },
  {
   "cell_type": "code",
   "execution_count": null,
   "id": "5b8b3028-01fe-4b4d-9b1b-72f43d43eb0b",
   "metadata": {},
   "outputs": [],
   "source": []
  }
 ],
 "metadata": {
  "kernelspec": {
   "display_name": "Python 3 (ipykernel)",
   "language": "python",
   "name": "python3"
  },
  "language_info": {
   "codemirror_mode": {
    "name": "ipython",
    "version": 3
   },
   "file_extension": ".py",
   "mimetype": "text/x-python",
   "name": "python",
   "nbconvert_exporter": "python",
   "pygments_lexer": "ipython3",
   "version": "3.12.1"
  }
 },
 "nbformat": 4,
 "nbformat_minor": 5
}
